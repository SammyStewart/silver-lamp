{
 "cells": [
  {
   "cell_type": "code",
   "execution_count": 1,
   "metadata": {
    "ExecuteTime": {
     "end_time": "2020-06-28T22:55:19.092652Z",
     "start_time": "2020-06-28T22:55:18.755289Z"
    }
   },
   "outputs": [],
   "source": [
    "import json\n",
    "import requests\n",
    "from bs4 import BeautifulSoup"
   ]
  },
  {
   "cell_type": "code",
   "execution_count": 2,
   "metadata": {
    "ExecuteTime": {
     "end_time": "2020-06-28T22:55:19.097676Z",
     "start_time": "2020-06-28T22:55:19.093644Z"
    }
   },
   "outputs": [],
   "source": [
    "# 获取 CHI2020 会议的所有网址，因为 CHI2020 是动态网页，每个网址包含从论文 id 起往后的 30 篇论文\n",
    "base_url_body = \"https://dl.acm.org/doi/proceedings/10.1145/3313831?id=\"\n",
    "base_url_id_list = list(range(1, 752, 30))  # 根据预先尝试的数值，id=751 是最后一个含有论文的网址\n",
    "n = len(base_url_id_list)\n",
    "\n",
    "base_url_list = []  # 创建一个空列表以存放 CHI2020 会议的所有网址\n",
    "\n",
    "for i in range(n):\n",
    "    base_url_list.append(base_url_body + str(base_url_id_list[i]))"
   ]
  },
  {
   "cell_type": "code",
   "execution_count": 3,
   "metadata": {
    "ExecuteTime": {
     "end_time": "2020-06-28T22:55:19.107681Z",
     "start_time": "2020-06-28T22:55:19.098631Z"
    }
   },
   "outputs": [
    {
     "data": {
      "text/plain": [
       "['https://dl.acm.org/doi/proceedings/10.1145/3313831?id=1',\n",
       " 'https://dl.acm.org/doi/proceedings/10.1145/3313831?id=31',\n",
       " 'https://dl.acm.org/doi/proceedings/10.1145/3313831?id=61',\n",
       " 'https://dl.acm.org/doi/proceedings/10.1145/3313831?id=91',\n",
       " 'https://dl.acm.org/doi/proceedings/10.1145/3313831?id=121',\n",
       " 'https://dl.acm.org/doi/proceedings/10.1145/3313831?id=151',\n",
       " 'https://dl.acm.org/doi/proceedings/10.1145/3313831?id=181',\n",
       " 'https://dl.acm.org/doi/proceedings/10.1145/3313831?id=211',\n",
       " 'https://dl.acm.org/doi/proceedings/10.1145/3313831?id=241',\n",
       " 'https://dl.acm.org/doi/proceedings/10.1145/3313831?id=271',\n",
       " 'https://dl.acm.org/doi/proceedings/10.1145/3313831?id=301',\n",
       " 'https://dl.acm.org/doi/proceedings/10.1145/3313831?id=331',\n",
       " 'https://dl.acm.org/doi/proceedings/10.1145/3313831?id=361',\n",
       " 'https://dl.acm.org/doi/proceedings/10.1145/3313831?id=391',\n",
       " 'https://dl.acm.org/doi/proceedings/10.1145/3313831?id=421',\n",
       " 'https://dl.acm.org/doi/proceedings/10.1145/3313831?id=451',\n",
       " 'https://dl.acm.org/doi/proceedings/10.1145/3313831?id=481',\n",
       " 'https://dl.acm.org/doi/proceedings/10.1145/3313831?id=511',\n",
       " 'https://dl.acm.org/doi/proceedings/10.1145/3313831?id=541',\n",
       " 'https://dl.acm.org/doi/proceedings/10.1145/3313831?id=571',\n",
       " 'https://dl.acm.org/doi/proceedings/10.1145/3313831?id=601',\n",
       " 'https://dl.acm.org/doi/proceedings/10.1145/3313831?id=631',\n",
       " 'https://dl.acm.org/doi/proceedings/10.1145/3313831?id=661',\n",
       " 'https://dl.acm.org/doi/proceedings/10.1145/3313831?id=691',\n",
       " 'https://dl.acm.org/doi/proceedings/10.1145/3313831?id=721',\n",
       " 'https://dl.acm.org/doi/proceedings/10.1145/3313831?id=751']"
      ]
     },
     "execution_count": 3,
     "metadata": {},
     "output_type": "execute_result"
    }
   ],
   "source": [
    "base_url_list  # 输出会议网址列表进行检查"
   ]
  },
  {
   "cell_type": "code",
   "execution_count": 4,
   "metadata": {
    "ExecuteTime": {
     "end_time": "2020-06-28T22:56:26.748053Z",
     "start_time": "2020-06-28T22:55:19.108604Z"
    }
   },
   "outputs": [],
   "source": [
    "# 获取会议单篇论文的所有网址，上述的每个会议网址除了最后一个以外，其余均包含30个单篇论文网址\n",
    "url_list = []  # 创建一个空列表以存放 CHI2020 会议单篇论文的所有网址\n",
    "\n",
    "for base_url in base_url_list:\n",
    "    req = requests.get(base_url)  # 加载网址内容\n",
    "\n",
    "    soup = BeautifulSoup(req.text, \"html.parser\")  # 解析网址内容\n",
    "\n",
    "    # 找到所有单篇论文的网址并储存到列表中\n",
    "    for url_cell in soup.find_all('div', {'class': 'issue-item__detail'}):\n",
    "        article_url = url_cell.a['href']  # extract the url\n",
    "        url_list.append(article_url)  # store in dictionary format"
   ]
  },
  {
   "cell_type": "code",
   "execution_count": 5,
   "metadata": {
    "ExecuteTime": {
     "end_time": "2020-06-28T22:56:26.761008Z",
     "start_time": "2020-06-28T22:56:26.749744Z"
    }
   },
   "outputs": [
    {
     "data": {
      "text/plain": [
       "['https://doi.org/10.1145/3313831.3376128',\n",
       " 'https://doi.org/10.1145/3313831.3376129',\n",
       " 'https://doi.org/10.1145/3313831.3376130',\n",
       " 'https://doi.org/10.1145/3313831.3376131',\n",
       " 'https://doi.org/10.1145/3313831.3376132',\n",
       " 'https://doi.org/10.1145/3313831.3376133',\n",
       " 'https://doi.org/10.1145/3313831.3376134',\n",
       " 'https://doi.org/10.1145/3313831.3376135',\n",
       " 'https://doi.org/10.1145/3313831.3376136',\n",
       " 'https://doi.org/10.1145/3313831.3376137']"
      ]
     },
     "execution_count": 5,
     "metadata": {},
     "output_type": "execute_result"
    }
   ],
   "source": [
    "url_list  # 输出论文网址列表进行检查"
   ]
  },
  {
   "cell_type": "code",
   "execution_count": 6,
   "metadata": {
    "ExecuteTime": {
     "end_time": "2020-06-28T22:56:26.770968Z",
     "start_time": "2020-06-28T22:56:26.764988Z"
    }
   },
   "outputs": [
    {
     "name": "stdout",
     "output_type": "stream",
     "text": [
      "758\n"
     ]
    }
   ],
   "source": [
    "print(len(url_list))  # 查询论文总数"
   ]
  },
  {
   "cell_type": "code",
   "execution_count": 7,
   "metadata": {
    "ExecuteTime": {
     "end_time": "2020-06-28T22:56:28.517852Z",
     "start_time": "2020-06-28T22:56:26.772993Z"
    }
   },
   "outputs": [],
   "source": [
    "# 单一论文网址，用于测试下列函数\n",
    "test_url = \"https://doi.org/10.1145/3313831.3376128\"\n",
    "test_req = requests.get(test_url)\n",
    "test_soup = BeautifulSoup(test_req.text, \"html.parser\")"
   ]
  },
  {
   "cell_type": "code",
   "execution_count": 8,
   "metadata": {
    "ExecuteTime": {
     "end_time": "2020-06-28T22:56:28.522898Z",
     "start_time": "2020-06-28T22:56:28.518801Z"
    }
   },
   "outputs": [],
   "source": [
    "# 该函数用于获取单篇论文的作者信息列表\n",
    "def get_authors_list(soup):\n",
    "    authors_list = []\n",
    "    authors_part = soup.find('div', {'id': 'sb-1'})\n",
    "\n",
    "    for author in authors_part.find_all('li', {'class': 'loa__item'}):\n",
    "        author_id = author.find('div', {'class': \"author-info__body\"}).a['href'][9:]\n",
    "        author_name = author.a['title']\n",
    "        authors_list.append({'id': author_id, 'name': author_name})\n",
    "\n",
    "    return authors_list"
   ]
  },
  {
   "cell_type": "code",
   "execution_count": 9,
   "metadata": {
    "ExecuteTime": {
     "end_time": "2020-06-28T22:56:28.535783Z",
     "start_time": "2020-06-28T22:56:28.523789Z"
    }
   },
   "outputs": [
    {
     "data": {
      "text/plain": [
       "[{'id': '99658744130', 'name': 'Josh Andres'},\n",
       " {'id': '81311483103', 'name': 'm.c. schraefel'},\n",
       " {'id': '99659365958', 'name': 'Nathan Semertzidis'},\n",
       " {'id': '99659529317', 'name': 'Brahmi Dwivedi'},\n",
       " {'id': '99659527470', 'name': 'Yutika C. Kulwe'},\n",
       " {'id': '81100643947', 'name': 'Juerg von Kaenel'},\n",
       " {'id': '81100260236', 'name': 'Florian Floyd Mueller'}]"
      ]
     },
     "execution_count": 9,
     "metadata": {},
     "output_type": "execute_result"
    }
   ],
   "source": [
    "# 测试 get_authors_list 函数\n",
    "authors_list = get_authors_list(test_soup)\n",
    "authors_list"
   ]
  },
  {
   "cell_type": "code",
   "execution_count": 29,
   "metadata": {
    "ExecuteTime": {
     "end_time": "2020-06-28T23:42:07.399313Z",
     "start_time": "2020-06-28T23:42:07.393282Z"
    }
   },
   "outputs": [],
   "source": [
    "# 该函数用于获取单篇论文的文章信息，内部调用 get_authors_list 函数\n",
    "def get_article_info(soup, year):\n",
    "    article_year = year\n",
    "    article_doi = soup.find('a', {'class': 'issue-item__doi'}).text.strip()[16:]\n",
    "    article_id = article_doi[16:]\n",
    "    article_title = soup.find('h1', {'class': 'citation__title'}).text.strip()\n",
    "    article_authors = get_authors_list(soup)\n",
    "    article_abstract = soup.find('div', {'class': 'abstractSection abstractInFull'}).text.strip()\n",
    "\n",
    "    article_info = {'year': article_year,\n",
    "                    'id': article_id,\n",
    "                    'title': article_title,\n",
    "                    'authors': article_authors,\n",
    "                    'abstract': article_abstract,\n",
    "                    'doi': article_doi}\n",
    "\n",
    "    return article_info"
   ]
  },
  {
   "cell_type": "code",
   "execution_count": 11,
   "metadata": {
    "ExecuteTime": {
     "end_time": "2020-06-28T22:56:28.559707Z",
     "start_time": "2020-06-28T22:56:28.545728Z"
    }
   },
   "outputs": [],
   "source": [
    "# 测试 get_authors_list 函数，并将其写入 article_info.json\n",
    "article_info_json = get_article_info(test_soup, 2020)\n",
    "\n",
    "file = open('article_info.json', 'w', encoding='utf-8')\n",
    "json.dump(article_info_json, file, ensure_ascii=False)\n",
    "file.close()"
   ]
  },
  {
   "cell_type": "code",
   "execution_count": 26,
   "metadata": {
    "ExecuteTime": {
     "end_time": "2020-06-28T23:14:57.250055Z",
     "start_time": "2020-06-28T23:14:57.244043Z"
    }
   },
   "outputs": [],
   "source": [
    "# 该函数用于获取单篇论文的参考文献信息\n",
    "def get_references_info(soup, year):\n",
    "    references_info = []\n",
    "\n",
    "    i = 1\n",
    "    for reference in soup.find_all('span', {'class': 'references__note'}):\n",
    "        reference_index = i\n",
    "        reference_citation = reference.text.strip()\n",
    "\n",
    "        if reference.find('img', {'data-title': 'Digital Library'}):\n",
    "            digital_library_img = reference.find('img', {'data-title': 'Digital Library'})\n",
    "            reference_doi = digital_library_img.find_parent('span').a['href'][23:]\n",
    "            reference_id = reference_doi[16:]\n",
    "            references_info.append({'ref': reference_index,\n",
    "                                    'citation': reference_citation,\n",
    "                                    'id': reference_id,\n",
    "                                    'doi': reference_doi})\n",
    "        else:\n",
    "            references_info.append({'ref': reference_index,\n",
    "                                    'citation': reference_citation})\n",
    "        i += 1\n",
    "\n",
    "    return references_info"
   ]
  },
  {
   "cell_type": "code",
   "execution_count": 27,
   "metadata": {
    "ExecuteTime": {
     "end_time": "2020-06-28T23:14:57.996222Z",
     "start_time": "2020-06-28T23:14:57.976701Z"
    }
   },
   "outputs": [
    {
     "data": {
      "text/plain": [
       "[{'ref': 1,\n",
       "  'citation': 'Dzmitry Aliakseyeu, Bernt Meerbeek, Jon Mason, Remco Magielse and Susanne Seitinger. Peripheral Interaction with Light. In Peripheral Interaction, Springer, 2016, 207--235. http://dx.doi.org/10.1145/10.1007/978--3--319--29523--7_10Google ScholarCross Ref'},\n",
       " {'ref': 2,\n",
       "  'citation': 'Andres, et al. 2020. Future Inbodied: A Framework for Inbodied Interaction Design. In Proceedings of TEI Conference on Tangible, Embedded, and Embodied Interaction. http://dx.doi.org/10.1145/10.1145/3374920.3374969Google Scholar'},\n",
       " {'ref': 3,\n",
       "  'citation': 'Josh Andres, Julian de Hoog and Florian \\'Floyd\\' Mueller. 2018. \"I Had Super-Powers When eBike Riding\" Towards Understanding the Design of Integrated Exertion. Proceedings of the 2018 Annual Symposium on Computer-Human Interaction in Play. http://dx.doi.org/10.1145/10.1145/3242671.3242688Google ScholarDigital Library',\n",
       "  'id': '3242688',\n",
       "  'doi': '10.1145/3242671.3242688'},\n",
       " {'ref': 4,\n",
       "  'citation': 'Josh Andres, Tuomas Kari, Juerg von Kaenel and Florian \\'Floyd\\' Mueller. 2019. \"Co-Riding with My Ebike to Get Green Lights\". In Proceedings of the 2019 on Designing Interactive Systems Conference. ACM, 3322307, 1251--1263. http://dx.doi.org/10.1145/10.1145/3322276.3322307Google ScholarDigital Library',\n",
       "  'id': '3322307',\n",
       "  'doi': '10.1145/3322276.3322307'},\n",
       " {'ref': 5,\n",
       "  'citation': 'Josh Andres, m.c. schraefel, Aaron Tabor and Eric B. Hekler. 2019. The Body as Starting Point: Applying inside Body Knowledge for Inbodied Design. In Proceedings of Extended Abstracts of the 2019 CHI Conference on Human Factors in Computing Systems. ACM, 3299023, 1--8. http://dx.doi.org/10.1145/10.1145/3290607.3299023Google Scholar'},\n",
       " {'ref': 6,\n",
       "  'citation': 'Azami, et al. 2012. An Improved Signal Segmentation Using Moving Average and Savitzky-Golay Filter. Journal of Signal and Information Processing 3, 01, 39. 10.4236/jsip.2012.31006Google Scholar'},\n",
       " {'ref': 7,\n",
       "  'citation': 'Saskia Bakker, Elise Hoven and Berry Eggen. 2015. Peripheral Interaction: Characteristics and Considerations. Personal and Ubiquitous Computing 19, 1, 239--254. opus.lib.uts.edu.au/handle/10453/33597Google ScholarDigital Library',\n",
       "  'id': '14-0775-2',\n",
       "  'doi': '10.1007/s00779-014-0775-2'},\n",
       " {'ref': 8,\n",
       "  'citation': 'Jared S. Bauer, Sunny Consolvo, Benjamin Greenstein, Jonathan Schooler, Eric Wu, Nathaniel F. Watson and Julie Kientz. 2012. Shuteye: Encouraging Awareness of Healthy Sleep Recommendations with a Mobile, Peripheral Display. In Proceedings of the SIGCHI Conference on Human Factors in Computing Systems. ACM, 2208600, 1401--1410. http://dx.doi.org/10.1145/10.1145/2207676.2208600Google Scholar'},\n",
       " {'ref': 9,\n",
       "  'citation': 'Open BCI. 2019. Cyton Biosensing Board - Open BCI. https://shop.openbci.com/products/cyton-biosensing-board-8-channel?variant=38958638542.Google Scholar'},\n",
       " {'ref': 10,\n",
       "  'citation': 'Open BCI. 2019. Eeg Electrode Cap Kit. https://shop.openbci.com/products/openbci-eeg-electrocap.Google Scholar'},\n",
       " {'ref': 11,\n",
       "  'citation': 'AE Blandford. 2013. Semi-Structured Qualitative Studies Interaction Design Foundation. discovery.ucl.ac.uk/id/eprint/1436174/Google Scholar'},\n",
       " {'ref': 12,\n",
       "  'citation': 'Marc Boucher. 2004. Kinetic Synaesthesia: Experiencing Dance in Multimedia Scenographies. Contemporary Aesthetics 2, 1, 13. hdl.handle.net/2027/spo.7523862.0002.013Google Scholar'},\n",
       " {'ref': 13,\n",
       "  'citation': 'Virginia Braun and Victoria Clarke. Using Thematic Analysis in Psychology. 2006. Qualitative research in psychology 3, 2, 77--101. http://dx.doi.org/10.1145/10.1191/1478088706qp063oaGoogle Scholar'},\n",
       " {'ref': 14,\n",
       "  'citation': 'Sasskia Brüers and Rufin VanRullen. 2018. Alpha Power Modulates Perception Independently of Endogenous Factors. Frontiers in Neuroscience 12, 279. http://dx.doi.org/10.1145/10.3389/fnins.2018.00279Google ScholarCross Ref'},\n",
       " {'ref': 15,\n",
       "  'citation': 'Elizabeth Churchill. 2015. Mhealth+ Proactive Well-Being= Well Creation. interactions 22, 1, 60--63.Google Scholar'},\n",
       " {'ref': 16,\n",
       "  'citation': 'Eric Cobb. 2014. Peripheral Vision Training. https://youtu.be/aunC2sSjvC8Google Scholar'},\n",
       " {'ref': 17,\n",
       "  'citation': 'Ashley Colley, Lasse Virtanen, Pascal Knierim and Jonna Häkkilä. 2017. Investigating Drone Motion as Pedestrian Guidance. In Proceedings of the 16th International Conference on Mobile and Ubiquitous Multimedia. ACM, 143--150. http://dx.doi.org/10.1145/10.1145/3152832.3152837Google ScholarDigital Library',\n",
       "  'id': '3152837',\n",
       "  'doi': '10.1145/3152832.3152837'},\n",
       " {'ref': 18,\n",
       "  'citation': 'Daniel H De La Iglesia, Juan F De Paz, Gabriel Villarrubia González, Alberto L Barriuso, Javier Bajo and Juan M Corchado. 2018. Increasing the Intensity over Time of an Electric-Assist Bike Based on the User and Route: The Bike Becomes the Gym. Sensors 18, 1, 220. http://dx.doi.org/10.1145/10.3390/s18010220Google Scholar'},\n",
       " {'ref': 19,\n",
       "  'citation': 'Jennifer R Dunn and Maurice E Schweitzer. 2005. Feeling and Believing: The Influence of Emotion on Trust. Journal of personality and social psychology 88, 5, 736. 10.1037/0022--3514.88.5.736Google ScholarCross Ref'},\n",
       " {'ref': 20,\n",
       "  'citation': 'Kevin Fan, Jochen Huber, Suranga Nanayakkara and Masahiko Inami. 2014. Spidervision: Extending the Human Field of View for Augmented Awareness. In Proceedings of the 5th Augmented Human International Conference. ACM, 2582100, 1--8. http://dx.doi.org/10.1145/10.1145/2582051.2582100Google ScholarDigital Library',\n",
       "  'id': '2582100',\n",
       "  'doi': '10.1145/2582051.2582100'},\n",
       " {'ref': 21,\n",
       "  'citation': 'Umer Farooq and Jonathan Grudin. 2016. Human-Computer Integration. Interactions 23, 6, 26--32. http://dx.doi.org/10.1145/10.1145/3001896Google ScholarDigital Library',\n",
       "  'id': '',\n",
       "  'doi': '10.1145/3001896'},\n",
       " {'ref': 22,\n",
       "  'citation': 'Umer Farooq and Jonathan T. Grudin. 2017. Paradigm Shift from Human Computer Interaction to Integration. In Proceedings of the 2017 CHI Conference Extended Abstracts on Human Factors in Computing Systems. ACM, 3049285, 1360--1363. http://dx.doi.org/10.1145/10.1145/3027063.3049285Google Scholar'},\n",
       " {'ref': 23,\n",
       "  'citation': 'Elliot Fishman and Christopher Cherry. 2016. E-Bikes in the Mainstream: Reviewing a Decade of Research. Transport Reviews 36, 1, 72--91. http://dx.doi.org/10.1145/10.1080/01441647.2015.1069907Google ScholarCross Ref'},\n",
       " {'ref': 24,\n",
       "  'citation': 'Wofgang Fuhl, Marc Tonsen, Andreas Bulling and Enkelejda Kasneci. 2016. Pupil Detection for Head-Mounted Eye Tracking in the Wild: An Evaluation of the State of the Art. Machine Vision and Applications 27, 8, 1275--1288. http://dx.doi.org/10.1145/10.10072Fs00138-016-0776--4Google ScholarDigital Library',\n",
       "  'id': '16-0776-4',\n",
       "  'doi': '10.1007/s00138-016-0776-4'},\n",
       " {'ref': 25,\n",
       "  'citation': 'Abdullah Ghasemi, Maryam Momeni, Ebrahim Jafarzadehpur, Meysam Rezaee and Hamid Taheri. 2011. Visual Skills Involved in Decision Making by Expert Referees. Perceptual and Motor Skills 112, 1, 161--171. http://dx.doi.org/10.1145/10.2466/05.22.24.27.PMS.112.1.161--171Google ScholarCross Ref'},\n",
       " {'ref': 26,\n",
       "  'citation': 'Mhmoud Hassan, Florian Daiber, Frederik Wiehr, Felix Kosmalla and Antonio Krüger. 2017. Footstriker: An Ems-Based Foot Strike Assistant for Running. Proceedings of the ACM on Interactive, Mobile, Wearable and Ubiquitous Technologies 1, 1, 2. http://dx.doi.org/10.1145/10.1145/3053332Google ScholarDigital Library',\n",
       "  'id': '',\n",
       "  'doi': '10.1145/3053332'},\n",
       " {'ref': 27,\n",
       "  'citation': 'Robert R Hoffman, Shane T Mueller, Gary Klein and Jordan Litman. 2018. Metrics for Explainable AI: Challenges and Prospects. arXiv preprint arXiv:1812.04608.Google Scholar'},\n",
       " {'ref': 28,\n",
       "  'citation': 'Kasper Hornb and Antti Oulasvirta. 2017. What Is Interaction? In Proceedings of the 2017 CHI Conference on Human Factors in Computing Systems. ACM, 3025765, 5040--5052. http://dx.doi.org/10.1145/10.1145/3025453.3025765Google ScholarDigital Library',\n",
       "  'id': '3025765',\n",
       "  'doi': '10.1145/3025453.3025765'},\n",
       " {'ref': 29,\n",
       "  'citation': 'Safal Khanal. 2015. Impact of Visual Skills Training on Sports Performance: Current and Future Perspectives. http://dx.doi.org/10.1145/10.15406/aovs.2015.02.00032Google Scholar'},\n",
       " {'ref': 30,\n",
       "  'citation': 'Kyle Krafka, Aditya Khosla, Petr Kellnhofer, Harini Kannan, Suchendra Bhandarkar, Wojciech Matusik and Antonio Torralba. 2016. Eye Tracking for Everyone. In Proceedings of the IEEE conference on computer vision and pattern recognition. 2176--2184. dspace.mit.edu/handle/1721.1/111782Google ScholarCross Ref'},\n",
       " {'ref': 31,\n",
       "  'citation': 'Brian Casey Langford, Jiaoli Chen and Christopher R Cherry. 2015. Risky Riding: Naturalistic Methods Comparing Safety Behavior from Conventional Bicycle Riders and Electric Bike Riders. Accident Analysis & Prevention 82, 220--226. http://dx.doi.org/10.1145/10.1016/j.aap.2015.05.016Google ScholarCross Ref'},\n",
       " {'ref': 32,\n",
       "  'citation': 'Ken APM Lemmink, Baukje Dijkstra and Chris Visscher. 2005. Effects of Limited Peripheral Vision on Shuttle Sprint Performance of Soccer Players. Perceptual and motor skills 100, 1, 167--175. http://dx.doi.org/10.1145/10.2466/pms.100.1.167--175Google Scholar'},\n",
       " {'ref': 33,\n",
       "  'citation': 'Joeph Carl Robnett Licklider. 1960. Man-Computer Symbiosis. IRE transactions on human factors in electronics, 1, 4--11. 10.1109/THFE2.1960.4503259Google Scholar'},\n",
       " {'ref': 34,\n",
       "  'citation': 'Gag Luo, Fernando Vargas-Martin and Eli Peli. 2008. The Role of Peripheral Vision in Saccade Planning: Learning from People with Tunnel Vision. Journal of vision 8, 14, 25--25. http://dx.doi.org/10.1145/10.1167/8.14.25Google ScholarCross Ref'},\n",
       " {'ref': 35,\n",
       "  'citation': 'Changxi Ma, Dong Yang, Jibiao Zhou, Zhongxiang Feng and Quan Yuan. 2019. Risk Riding Behaviors of Urban E-Bikes: A Literature Review. International journal of environmental research and public health 16, 13, 2308. http://dx.doi.org/10.1145/10.3390/ijerph16132308Google Scholar'},\n",
       " {'ref': 36,\n",
       "  'citation': 'Päivi Majaranta and Andreas Bulling. 2014. Eye Tracking and Eye-Based Human--Computer Interaction. In Advances in Physiological Computing, Springer, 39--65. http://dx.doi.org/10.1145/10.1109/MAMI.2015.7456615Google Scholar'},\n",
       " {'ref': 37,\n",
       "  'citation': 'Regan L Mandryk and Lennart E Nacke. 2016. Biometrics in Gaming and Entertainment Technologies. In Biometrics in a Data Driven World, Chapman and Hall/CRC, 215--248. http://dx.doi.org/10.1145/10.1201/9781315317083--7Google Scholar'},\n",
       " {'ref': 38,\n",
       "  'citation': 'Rafel Ibáñez Molinero and Juan Antonio García-Madruga. 2011. Knowledge and Question Asking.Psicothema 23, 1, 26--30. pubmed/21266138Google Scholar'},\n",
       " {'ref': 39,\n",
       "  'citation': 'Mueller, et al. Towards Designing Bodily Integrated Play. 2020. In Proceedings of TEI Conference on Tangible, Embedded, and Embodied Interaction.Google Scholar'},\n",
       " {'ref': 40,\n",
       "  'citation': 'Mueller, et al. 2011. Designing Sports: A Framework for Exertion Games. In Proceedings of the SIGCHI Conference on Human Factors in Computing Systems. ACM, 2651--2660. http://dx.doi.org/10.1145/10.1145/1978942.1979330Google Scholar'},\n",
       " {'ref': 41,\n",
       "  'citation': 'Florian \"Floyd\" Mueller, Josh Andres, Joe Marshall, Dag Svan, m. c. schraefel, Kathrin Gerling, Jakob Tholander, Anna Lisa Martin-Niedecken, Elena M, rquez Segura, Elise van den Hoven, Nicholas Graham, Kristina H, and Corina Sas. 2018. Body-Centric Computing: Results from a Weeklong Dagstuhl Seminar in a German Castle. Interactions 25, 4, 34--39. 10.1145/3215854Google Scholar'},\n",
       " {'ref': 42,\n",
       "  'citation': 'Lennart Nacke, Michael Kalyn, Calvin Lough and Regan Lee Mandryk. 2011. Biofeedback Game Design: Using Direct and Indirect Physiological Control to Enhance Game Interaction. In Proceedings of the SIGCHI conference on human factors in computing systems. ACM, 103--112. http://dx.doi.org/10.1145/10.1145/1978942.1978958Google ScholarDigital Library',\n",
       "  'id': '1978958',\n",
       "  'doi': '10.1145/1978942.1978958'},\n",
       " {'ref': 43,\n",
       "  'citation': 'Jeane Nakamura and Mihaly Csikszentmihalyi. 2002. The Concept of Flow. Handbook of positive psychology, 89--105. http://dx.doi.org/10.1145/10.1093/oxfordhb/9780195187243.013.0018Google Scholar'},\n",
       " {'ref': 44,\n",
       "  'citation': 'Wenya Nan, Daria Migotina, Feng Wan, Chin Ian Lou, João Rodrigues, João Semedo, Mang I Vai, Jose Gomes Pereira, Fernando Melicio and Agostinho C Da Rosa. 2014. Dynamic Peripheral Visual Performance Relates to Alpha Activity in Soccer Players. Frontiers in human neuroscience 8, 913. 10.3389/fnhum.2014.00913Google Scholar'},\n",
       " {'ref': 45,\n",
       "  'citation': 'Wenya Nan, Feng Wan, Chin Ian Lou, Mang I Vai and Agostinho Rosa. 2013. Peripheral Visual Performance Enhancement by Neurofeedback Training. Applied psychophysiology and biofeedback 38, 4, 285--291. 0.1007/s10484-013--9233--6Google Scholar'},\n",
       " {'ref': 46,\n",
       "  'citation': 'Marianna Obrist, Sue Ann Seah and Sriram Subramanian. 2005. Talking About Tactile Experiences. In Proceedings of the SIGCHI Conference on Human Factors in Computing Systems. ACM, 1659--1668. http://dx.doi.org/10.1145/10.1145/2470654.2466220Google Scholar'},\n",
       " {'ref': 47,\n",
       "  'citation': 'OpenBCI. 2019. Openbci_GUI. https://github.com/OpenBCI/OpenBCI_GUI/tree/master/OpenBCI_GUI.Google Scholar'},\n",
       " {'ref': 48,\n",
       "  'citation': 'Jason Orlosky. 2014. Depth Based Interaction and Field of View Manipulation for Augmented Reality. In Proceedings s of the adjunct publication of the 27th annual ACM symposium on User interface software and technology. ACM, 2661164, 5--8. http://dx.doi.org/10.1145/10.1145/2658779.2661164Google ScholarDigital Library',\n",
       "  'id': '2661164',\n",
       "  'doi': '10.1145/2658779.2661164'},\n",
       " {'ref': 49,\n",
       "  'citation': 'Patibanda, et al. Motor Memory in HCI. In Proceedings of Extended Abstracts of the 2020 CHI Conference on Human Factors in Computing Systems.Google Scholar'},\n",
       " {'ref': 50,\n",
       "  'citation': 'Tibor Petzoldt, Katja Schleinitz, Sarah Heilmann and Tina Gehlert. 2017. Traffic Conflicts and Their Contextual Factors When Riding Conventional Vs. Electric Bicycles. Transportation research part F: traffic psychology and behaviour 46, 477--490. http://dx.doi.org/10.1145/10.1016/j.trf.2016.06.010Google Scholar'},\n",
       " {'ref': 51,\n",
       "  'citation': 'Rantakari, et al. 2016. Charting Design Preferences on Wellness Wearables. In Proceedings of the 7th Augmented Human International Conference 2016. ACM, 2875231, 1--4. http://dx.doi.org/10.1145/10.1145/2875194.2875231Google Scholar'},\n",
       " {'ref': 52,\n",
       "  'citation': 'IBM Research. 2018. Trusting AI. https://www.research.ibm.com/artificial-intelligence/publications/2018/trusting-ai/.Google Scholar'},\n",
       " {'ref': 53,\n",
       "  'citation': 'Ruth Rosenholtz. Capabilities and Limitations of Peripheral Vision. 2016. Annual Review of Vision Science 2, 437--457. http://dx.doi.org/10.1145/10.1146/annurev-vision-082114-035733Google Scholar'},\n",
       " {'ref': 54,\n",
       "  'citation': 'Esther Salmeron-Manzano and Francisco Manzano-Agugliaro. 2018. The Electric Bicycle: Worldwide Research Trends. Energies 11, 7, 1894.Google Scholar'},\n",
       " {'ref': 55,\n",
       "  'citation': 'Alrecht Schmidt. 2017. Augmenting Human Intellect and Amplifying Perception and Cognition. IEEE Pervasive Computing 16, 1, 6--10. http://dx.doi.org/10.1145/10.1109/MPRV.2017.8Google ScholarDigital Library',\n",
       "  'id': '7.8',\n",
       "  'doi': '10.1109/MPRV.2017.8'},\n",
       " {'ref': 56,\n",
       "  'citation': 'm. c. schraefel, et al. 2020. Inbodied Interaction 102: Understanding the Selection and Application of Non-Invasive Neuro-Physio Measurements for Inbodied Interaction Design. In Proceedings of Extended Abstracts of the 2020 CHI Conference on Human Factors in Computing Systems.Google Scholar'},\n",
       " {'ref': 57,\n",
       "  'citation': 'm.c. schraefel. 2019. In5: A Model for Inbodied Interaction. In Proceedings of Extended Abstracts of the 2019 CHI Conference on Human Factors in Computing Systems. ACM, 3312977, 1--6. http://dx.doi.org/10.1145/10.1145/3290607.3312977Google Scholar'},\n",
       " {'ref': 58,\n",
       "  'citation': 'Samarth Singhal, William Odom, Lyn Bartram and Carman Neustaedter. 2017. Time-Turner: Data Engagement through Everyday Objects in the Home. In Proceedings of the 2017 ACM Conference Companion Publication on Designing Interactive Systems. ACM, 3079122, 72--78. http://dx.doi.org/10.1145/10.1145/3064857.3079122Google ScholarDigital Library',\n",
       "  'id': '3079122',\n",
       "  'doi': '10.1145/3064857.3079122'},\n",
       " {'ref': 59,\n",
       "  'citation': 'Shaun Sweeney, Rodrigo Ordonez-Hurtado, Francesco Pilla, Giovanni Russo, David Timoney and Robert Shorten. 2017. Cyberphysics, Pollution Mitigation, and Pedelecs. arXiv preprint arXiv:1706.00646Google Scholar'},\n",
       " {'ref': 60,\n",
       "  'citation': 'Janet L. Taylor. 2016. Kinesthetic Inputs. In Neuroscience in the 21st Century: From Basic to Clinical, Donald W. Pfaff and Nora D. Volkow Eds. Springer New York (New York, NY), 1055--1089. http://dx.doi.org/10.1145/10.1007/978--1--4939--3474--4_31Google Scholar'},\n",
       " {'ref': 61,\n",
       "  'citation': 'Bhavin Trivedi, Matthew J Kesterke, Ritesh Bhattacharjee, William Weber, Karen Mynar and Likith V Reddy. 2019. Craniofacial Injuries Seen with the Introduction of Bike-Share Electric Scooters in an Urban Setting. Journal of Oral and Maxillofacial Surgery. http://dx.doi.org/10.1145/10.1016/j.joms.2019.07.014Google Scholar'},\n",
       " {'ref': 62,\n",
       "  'citation': 'Vaessa Vallejo, Dario Cazzoli, Luca Rampa, Giuseppe A Zito, Flurin Feuerstein, Nicole Gruber, René M Müri, Urs P Mosimann and Tobias Nef. 2016. Effects of Alzheimer\\'s Disease on Visual Target Detection: A \"Peripheral Bias\". Frontiers in aging neuroscience 8, 200. http://dx.doi.org/10.1145/10.3389/fnagi.2016.00200Google Scholar'},\n",
       " {'ref': 63,\n",
       "  'citation': 'Naomi Vanlessen, Rudi De Raedt, Ernst HW Koster and Gilles Pourtois. 2016. Happy Heart, Smiling Eyes: A Systematic Review of Positive Mood Effects on Broadening of Visuospatial Attention. Neuroscience & Biobehavioral Reviews 68, 816--837. http://dx.doi.org/10.1145/10.1016/j.neubiorev.2016.07.001Google ScholarCross Ref'},\n",
       " {'ref': 64,\n",
       "  'citation': 'Naomi Vanlessen, Rudi De Raedt, Ernst HW Koster and Gilles Pourtois. 2016. Happy Heart, Smiling Eyes: A Systematic Review of Positive Mood Effects on Broadening of Visuospatial Attention. Neuroscience & Biobehavioral Reviews 68, 816--837. http://dx.doi.org/10.1145/10.1016/j.neubiorev.2016.07.001Google ScholarCross Ref'},\n",
       " {'ref': 65,\n",
       "  'citation': 'P Vermesch. 1994. The Explicitation Interview. Publisher: French original ESF. https://www.researchgate.net/publication/324976173_The_explicitation_interviewGoogle Scholar'}]"
      ]
     },
     "execution_count": 27,
     "metadata": {},
     "output_type": "execute_result"
    }
   ],
   "source": [
    "# 测试 get_references_info 函数\n",
    "references_info = get_references_info(test_soup, 2020)\n",
    "references_info"
   ]
  },
  {
   "cell_type": "code",
   "execution_count": 14,
   "metadata": {
    "ExecuteTime": {
     "end_time": "2020-06-28T22:56:28.599086Z",
     "start_time": "2020-06-28T22:56:28.594107Z"
    }
   },
   "outputs": [],
   "source": [
    "# 该函数用于获取所有论文的文章信息，内部调用 get_article_info 函数\n",
    "def get_conference_json(url_list, year):\n",
    "    conference_json = []\n",
    "\n",
    "    for url in url_list:\n",
    "        req = requests.get(url)\n",
    "        soup = BeautifulSoup(req.text, \"html.parser\")\n",
    "        conference_json.append(get_article_info(soup, year))\n",
    "\n",
    "    conference_json = json.dumps(conference_json, indent=4)\n",
    "\n",
    "    return conference_json"
   ]
  },
  {
   "cell_type": "code",
   "execution_count": 15,
   "metadata": {
    "ExecuteTime": {
     "end_time": "2020-06-28T22:56:28.607064Z",
     "start_time": "2020-06-28T22:56:28.600084Z"
    }
   },
   "outputs": [],
   "source": [
    "# 该函数用于获取所有论文的参考文献信息，内部调用 get_references_info 函数\n",
    "def get_references_json(url_list, year):\n",
    "    references_json = {}\n",
    "\n",
    "    for url in url_list:\n",
    "        req = requests.get(url)\n",
    "        soup = BeautifulSoup(req.text, \"html.parser\")\n",
    "        article_id = soup.find('a', {'class': 'issue-item__doi'}).text.strip()[-7:]\n",
    "        references_json[article_id] = get_references_info(soup, year)\n",
    "\n",
    "    references_json = json.dumps(references_json, indent=4)\n",
    "\n",
    "    return references_json"
   ]
  },
  {
   "cell_type": "code",
   "execution_count": 30,
   "metadata": {
    "ExecuteTime": {
     "end_time": "2020-06-29T00:01:51.544192Z",
     "start_time": "2020-06-28T23:42:15.258599Z"
    }
   },
   "outputs": [],
   "source": [
    "# 获取 CHI2020 所有论文的文章信息，并写入 conference-2020.json\n",
    "conference_json = get_conference_json(url_list, 2020)\n",
    "file = open('conference-2020.json', 'w', encoding='utf-8')\n",
    "file.write(conference_json)\n",
    "file.close()"
   ]
  },
  {
   "cell_type": "code",
   "execution_count": 28,
   "metadata": {
    "ExecuteTime": {
     "end_time": "2020-06-28T23:36:52.314511Z",
     "start_time": "2020-06-28T23:15:09.892612Z"
    }
   },
   "outputs": [],
   "source": [
    "# 获取 CHI2020 所有论文的参考文献信息，并写入 references-2020.json\n",
    "references_json = get_references_json(url_list, 2020)\n",
    "file = open('references-2020.json', 'w', encoding='utf-8')\n",
    "file.write(references_json)\n",
    "file.close()"
   ]
  }
 ],
 "metadata": {
  "kernelspec": {
   "display_name": "Python 3",
   "language": "python",
   "name": "python3"
  },
  "language_info": {
   "codemirror_mode": {
    "name": "ipython",
    "version": 3
   },
   "file_extension": ".py",
   "mimetype": "text/x-python",
   "name": "python",
   "nbconvert_exporter": "python",
   "pygments_lexer": "ipython3",
   "version": "3.7.6"
  },
  "latex_envs": {
   "LaTeX_envs_menu_present": true,
   "autoclose": false,
   "autocomplete": true,
   "bibliofile": "biblio.bib",
   "cite_by": "apalike",
   "current_citInitial": 1,
   "eqLabelWithNumbers": true,
   "eqNumInitial": 1,
   "hotkeys": {
    "equation": "Ctrl-E",
    "itemize": "Ctrl-I"
   },
   "labels_anchors": false,
   "latex_user_defs": false,
   "report_style_numbering": false,
   "user_envs_cfg": false
  },
  "toc": {
   "base_numbering": 1,
   "nav_menu": {},
   "number_sections": true,
   "sideBar": true,
   "skip_h1_title": false,
   "title_cell": "Table of Contents",
   "title_sidebar": "Contents",
   "toc_cell": false,
   "toc_position": {},
   "toc_section_display": true,
   "toc_window_display": false
  }
 },
 "nbformat": 4,
 "nbformat_minor": 4
}

{
 "cells": [
  {
   "cell_type": "code",
   "execution_count": 1,
   "metadata": {
    "ExecuteTime": {
     "end_time": "2020-06-28T22:55:19.092652Z",
     "start_time": "2020-06-28T22:55:18.755289Z"
    }
   },
   "outputs": [],
   "source": [
    "import json\n",
    "import requests\n",
    "from bs4 import BeautifulSoup"
   ]
  },
  {
   "cell_type": "code",
   "execution_count": 2,
   "metadata": {
    "ExecuteTime": {
     "end_time": "2020-06-28T22:55:19.097676Z",
     "start_time": "2020-06-28T22:55:19.093644Z"
    }
   },
   "outputs": [],
   "source": [
    "# 获取 CHI2020 会议的所有网址，因为 CHI2020 是动态网页，每个网址包含从论文 id 起往后的 30 篇论文\n",
    "base_url_body = \"https://dl.acm.org/doi/proceedings/10.1145/3313831?id=\"\n",
    "base_url_id_list = list(range(1, 752, 30))  # 根据预先尝试的数值，id=751 是最后一个含有论文的网址\n",
    "n = len(base_url_id_list)\n",
    "\n",
    "base_url_list = []  # 创建一个空列表以存放 CHI2020 会议的所有网址\n",
    "\n",
    "for i in range(n):\n",
    "    base_url_list.append(base_url_body + str(base_url_id_list[i]))"
   ]
  },
  {
   "cell_type": "code",
   "execution_count": 3,
   "metadata": {
    "ExecuteTime": {
     "end_time": "2020-06-28T22:55:19.107681Z",
     "start_time": "2020-06-28T22:55:19.098631Z"
    }
   },
   "outputs": [
    {
     "data": {
      "text/plain": [
       "['https://dl.acm.org/doi/proceedings/10.1145/3313831?id=1',\n",
       " 'https://dl.acm.org/doi/proceedings/10.1145/3313831?id=31',\n",
       " 'https://dl.acm.org/doi/proceedings/10.1145/3313831?id=61',\n",
       " 'https://dl.acm.org/doi/proceedings/10.1145/3313831?id=91',\n",
       " 'https://dl.acm.org/doi/proceedings/10.1145/3313831?id=121',\n",
       " 'https://dl.acm.org/doi/proceedings/10.1145/3313831?id=151',\n",
       " 'https://dl.acm.org/doi/proceedings/10.1145/3313831?id=181',\n",
       " 'https://dl.acm.org/doi/proceedings/10.1145/3313831?id=211',\n",
       " 'https://dl.acm.org/doi/proceedings/10.1145/3313831?id=241',\n",
       " 'https://dl.acm.org/doi/proceedings/10.1145/3313831?id=271',\n",
       " 'https://dl.acm.org/doi/proceedings/10.1145/3313831?id=301',\n",
       " 'https://dl.acm.org/doi/proceedings/10.1145/3313831?id=331',\n",
       " 'https://dl.acm.org/doi/proceedings/10.1145/3313831?id=361',\n",
       " 'https://dl.acm.org/doi/proceedings/10.1145/3313831?id=391',\n",
       " 'https://dl.acm.org/doi/proceedings/10.1145/3313831?id=421',\n",
       " 'https://dl.acm.org/doi/proceedings/10.1145/3313831?id=451',\n",
       " 'https://dl.acm.org/doi/proceedings/10.1145/3313831?id=481',\n",
       " 'https://dl.acm.org/doi/proceedings/10.1145/3313831?id=511',\n",
       " 'https://dl.acm.org/doi/proceedings/10.1145/3313831?id=541',\n",
       " 'https://dl.acm.org/doi/proceedings/10.1145/3313831?id=571',\n",
       " 'https://dl.acm.org/doi/proceedings/10.1145/3313831?id=601',\n",
       " 'https://dl.acm.org/doi/proceedings/10.1145/3313831?id=631',\n",
       " 'https://dl.acm.org/doi/proceedings/10.1145/3313831?id=661',\n",
       " 'https://dl.acm.org/doi/proceedings/10.1145/3313831?id=691',\n",
       " 'https://dl.acm.org/doi/proceedings/10.1145/3313831?id=721',\n",
       " 'https://dl.acm.org/doi/proceedings/10.1145/3313831?id=751']"
      ]
     },
     "execution_count": 3,
     "metadata": {},
     "output_type": "execute_result"
    }
   ],
   "source": [
    "base_url_list  # 输出会议网址列表进行检查"
   ]
  },
  {
   "cell_type": "code",
   "execution_count": 4,
   "metadata": {
    "ExecuteTime": {
     "end_time": "2020-06-28T22:56:26.748053Z",
     "start_time": "2020-06-28T22:55:19.108604Z"
    }
   },
   "outputs": [],
   "source": [
    "# 获取会议单篇论文的所有网址，上述的每个会议网址除了最后一个以外，其余均包含30个单篇论文网址\n",
    "url_list = []  # 创建一个空列表以存放 CHI2020 会议单篇论文的所有网址\n",
    "\n",
    "for base_url in base_url_list:\n",
    "    req = requests.get(base_url)  # 加载网址内容\n",
    "\n",
    "    soup = BeautifulSoup(req.text, \"html.parser\")  # 解析网址内容\n",
    "\n",
    "    # 找到所有单篇论文的网址并储存到列表中\n",
    "    for url_cell in soup.find_all('div', {'class': 'issue-item__detail'}):\n",
    "        article_url = url_cell.a['href']  # extract the url\n",
    "        url_list.append(article_url)  # store in dictionary format"
   ]
  },
  {
   "cell_type": "code",
   "execution_count": 5,
   "metadata": {
    "ExecuteTime": {
     "end_time": "2020-06-28T22:56:26.761008Z",
     "start_time": "2020-06-28T22:56:26.749744Z"
    }
   },
   "outputs": [
    {
     "data": {
      "text/plain": [
       "['https://doi.org/10.1145/3313831.3376128',\n",
       " 'https://doi.org/10.1145/3313831.3376129',\n",
       " 'https://doi.org/10.1145/3313831.3376130',\n",
       " 'https://doi.org/10.1145/3313831.3376131',\n",
       " 'https://doi.org/10.1145/3313831.3376132',\n",
       " 'https://doi.org/10.1145/3313831.3376133',\n",
       " 'https://doi.org/10.1145/3313831.3376134',\n",
       " 'https://doi.org/10.1145/3313831.3376135',\n",
       " 'https://doi.org/10.1145/3313831.3376136',\n",
       " 'https://doi.org/10.1145/3313831.3376137']"
      ]
     },
     "execution_count": 5,
     "metadata": {},
     "output_type": "execute_result"
    }
   ],
   "source": [
    "url_list[:10]  # 输出论文网址列表进行检查"
   ]
  },
  {
   "cell_type": "code",
   "execution_count": 6,
   "metadata": {
    "ExecuteTime": {
     "end_time": "2020-06-28T22:56:26.770968Z",
     "start_time": "2020-06-28T22:56:26.764988Z"
    }
   },
   "outputs": [
    {
     "name": "stdout",
     "output_type": "stream",
     "text": [
      "758\n"
     ]
    }
   ],
   "source": [
    "print(len(url_list))  # 查询论文总数"
   ]
  },
  {
   "cell_type": "code",
   "execution_count": 7,
   "metadata": {
    "ExecuteTime": {
     "end_time": "2020-06-28T22:56:28.517852Z",
     "start_time": "2020-06-28T22:56:26.772993Z"
    }
   },
   "outputs": [],
   "source": [
    "# 单一论文网址，用于测试下列函数\n",
    "test_url = \"https://doi.org/10.1145/3313831.3376128\"\n",
    "test_req = requests.get(test_url)\n",
    "test_soup = BeautifulSoup(test_req.text, \"html.parser\")"
   ]
  },
  {
   "cell_type": "code",
   "execution_count": 8,
   "metadata": {
    "ExecuteTime": {
     "end_time": "2020-06-28T22:56:28.522898Z",
     "start_time": "2020-06-28T22:56:28.518801Z"
    }
   },
   "outputs": [],
   "source": [
    "# 该函数用于获取单篇论文的作者信息列表\n",
    "def get_authors_list(soup):\n",
    "    authors_list = []\n",
    "    authors_part = soup.find('div', {'id': 'sb-1'})\n",
    "\n",
    "    for author in authors_part.find_all('li', {'class': 'loa__item'}):\n",
    "        author_id = author.find('div', {'class': \"author-info__body\"}).a['href'][9:]\n",
    "        author_name = author.a['title']\n",
    "        authors_list.append({'id': author_id, 'name': author_name})\n",
    "\n",
    "    return authors_list"
   ]
  },
  {
   "cell_type": "code",
   "execution_count": 9,
   "metadata": {
    "ExecuteTime": {
     "end_time": "2020-06-28T22:56:28.535783Z",
     "start_time": "2020-06-28T22:56:28.523789Z"
    }
   },
   "outputs": [
    {
     "data": {
      "text/plain": [
       "[{'id': '99658744130', 'name': 'Josh Andres'},\n",
       " {'id': '81311483103', 'name': 'm.c. schraefel'},\n",
       " {'id': '99659365958', 'name': 'Nathan Semertzidis'},\n",
       " {'id': '99659529317', 'name': 'Brahmi Dwivedi'},\n",
       " {'id': '99659527470', 'name': 'Yutika C. Kulwe'},\n",
       " {'id': '81100643947', 'name': 'Juerg von Kaenel'},\n",
       " {'id': '81100260236', 'name': 'Florian Floyd Mueller'}]"
      ]
     },
     "execution_count": 9,
     "metadata": {},
     "output_type": "execute_result"
    }
   ],
   "source": [
    "# 测试 get_authors_list 函数\n",
    "authors_list = get_authors_list(test_soup)\n",
    "authors_list"
   ]
  },
  {
   "cell_type": "code",
   "execution_count": 29,
   "metadata": {
    "ExecuteTime": {
     "end_time": "2020-06-28T23:42:07.399313Z",
     "start_time": "2020-06-28T23:42:07.393282Z"
    }
   },
   "outputs": [],
   "source": [
    "# 该函数用于获取单篇论文的文章信息，内部调用 get_authors_list 函数\n",
    "def get_article_info(soup, year):\n",
    "    article_year = year\n",
    "    article_doi = soup.find('a', {'class': 'issue-item__doi'}).text.strip()[16:]\n",
    "    article_id = article_doi[16:]\n",
    "    article_title = soup.find('h1', {'class': 'citation__title'}).text.strip()\n",
    "    article_authors = get_authors_list(soup)\n",
    "    article_abstract = soup.find('div', {'class': 'abstractSection abstractInFull'}).text.strip()\n",
    "\n",
    "    article_info = {'year': article_year,\n",
    "                    'id': article_id,\n",
    "                    'title': article_title,\n",
    "                    'authors': article_authors,\n",
    "                    'abstract': article_abstract,\n",
    "                    'doi': article_doi}\n",
    "\n",
    "    return article_info"
   ]
  },
  {
   "cell_type": "code",
   "execution_count": 11,
   "metadata": {
    "ExecuteTime": {
     "end_time": "2020-06-28T22:56:28.559707Z",
     "start_time": "2020-06-28T22:56:28.545728Z"
    }
   },
   "outputs": [],
   "source": [
    "# 测试 get_authors_list 函数，并将其写入 article_info.json\n",
    "article_info_json = get_article_info(test_soup, 2020)\n",
    "\n",
    "file = open('article_info.json', 'w', encoding='utf-8')\n",
    "json.dump(article_info_json, file, ensure_ascii=False)\n",
    "file.close()"
   ]
  },
  {
   "cell_type": "code",
   "execution_count": 26,
   "metadata": {
    "ExecuteTime": {
     "end_time": "2020-06-28T23:14:57.250055Z",
     "start_time": "2020-06-28T23:14:57.244043Z"
    }
   },
   "outputs": [],
   "source": [
    "# 该函数用于获取单篇论文的参考文献信息\n",
    "def get_references_info(soup, year):\n",
    "    references_info = []\n",
    "\n",
    "    i = 1\n",
    "    for reference in soup.find_all('span', {'class': 'references__note'}):\n",
    "        reference_index = i\n",
    "        reference_citation = reference.text.strip()\n",
    "\n",
    "        if reference.find('img', {'data-title': 'Digital Library'}):\n",
    "            digital_library_img = reference.find('img', {'data-title': 'Digital Library'})\n",
    "            reference_doi = digital_library_img.find_parent('span').a['href'][23:]\n",
    "            reference_id = reference_doi[16:]\n",
    "            references_info.append({'ref': reference_index,\n",
    "                                    'citation': reference_citation,\n",
    "                                    'id': reference_id,\n",
    "                                    'doi': reference_doi})\n",
    "        else:\n",
    "            references_info.append({'ref': reference_index,\n",
    "                                    'citation': reference_citation})\n",
    "        i += 1\n",
    "\n",
    "    return references_info"
   ]
  },
  {
   "cell_type": "code",
   "execution_count": 27,
   "metadata": {
    "ExecuteTime": {
     "end_time": "2020-06-28T23:14:57.996222Z",
     "start_time": "2020-06-28T23:14:57.976701Z"
    }
   },
   "outputs": []
     },
     "execution_count": 27,
     "metadata": {},
     "output_type": "execute_result"
    }
   ],
   "source": [
    "# 测试 get_references_info 函数\n",
    "# references_info = get_references_info(test_soup, 2020)\n",
    "# references_info"
   ]
  },
  {
   "cell_type": "code",
   "execution_count": 14,
   "metadata": {
    "ExecuteTime": {
     "end_time": "2020-06-28T22:56:28.599086Z",
     "start_time": "2020-06-28T22:56:28.594107Z"
    }
   },
   "outputs": [],
   "source": [
    "# 该函数用于获取所有论文的文章信息，内部调用 get_article_info 函数\n",
    "def get_conference_json(url_list, year):\n",
    "    conference_json = []\n",
    "\n",
    "    for url in url_list:\n",
    "        req = requests.get(url)\n",
    "        soup = BeautifulSoup(req.text, \"html.parser\")\n",
    "        conference_json.append(get_article_info(soup, year))\n",
    "\n",
    "    conference_json = json.dumps(conference_json, indent=4)\n",
    "\n",
    "    return conference_json"
   ]
  },
  {
   "cell_type": "code",
   "execution_count": 15,
   "metadata": {
    "ExecuteTime": {
     "end_time": "2020-06-28T22:56:28.607064Z",
     "start_time": "2020-06-28T22:56:28.600084Z"
    }
   },
   "outputs": [],
   "source": [
    "# 该函数用于获取所有论文的参考文献信息，内部调用 get_references_info 函数\n",
    "def get_references_json(url_list, year):\n",
    "    references_json = {}\n",
    "\n",
    "    for url in url_list:\n",
    "        req = requests.get(url)\n",
    "        soup = BeautifulSoup(req.text, \"html.parser\")\n",
    "        article_id = soup.find('a', {'class': 'issue-item__doi'}).text.strip()[-7:]\n",
    "        references_json[article_id] = get_references_info(soup, year)\n",
    "\n",
    "    references_json = json.dumps(references_json, indent=4)\n",
    "\n",
    "    return references_json"
   ]
  },
  {
   "cell_type": "code",
   "execution_count": 30,
   "metadata": {
    "ExecuteTime": {
     "end_time": "2020-06-29T00:01:51.544192Z",
     "start_time": "2020-06-28T23:42:15.258599Z"
    }
   },
   "outputs": [],
   "source": [
    "# 获取 CHI2020 所有论文的文章信息，并写入 conference-2020.json\n",
    "conference_json = get_conference_json(url_list, 2020)\n",
    "file = open('conference-2020.json', 'w', encoding='utf-8')\n",
    "file.write(conference_json)\n",
    "file.close()"
   ]
  },
  {
   "cell_type": "code",
   "execution_count": 28,
   "metadata": {
    "ExecuteTime": {
     "end_time": "2020-06-28T23:36:52.314511Z",
     "start_time": "2020-06-28T23:15:09.892612Z"
    }
   },
   "outputs": [],
   "source": [
    "# 获取 CHI2020 所有论文的参考文献信息，并写入 references-2020.json\n",
    "references_json = get_references_json(url_list, 2020)\n",
    "file = open('references-2020.json', 'w', encoding='utf-8')\n",
    "file.write(references_json)\n",
    "file.close()"
   ]
  }
 ],
 "metadata": {
  "kernelspec": {
   "display_name": "Python 3",
   "language": "python",
   "name": "python3"
  },
  "language_info": {
   "codemirror_mode": {
    "name": "ipython",
    "version": 3
   },
   "file_extension": ".py",
   "mimetype": "text/x-python",
   "name": "python",
   "nbconvert_exporter": "python",
   "pygments_lexer": "ipython3",
   "version": "3.7.6"
  },
  "latex_envs": {
   "LaTeX_envs_menu_present": true,
   "autoclose": false,
   "autocomplete": true,
   "bibliofile": "biblio.bib",
   "cite_by": "apalike",
   "current_citInitial": 1,
   "eqLabelWithNumbers": true,
   "eqNumInitial": 1,
   "hotkeys": {
    "equation": "Ctrl-E",
    "itemize": "Ctrl-I"
   },
   "labels_anchors": false,
   "latex_user_defs": false,
   "report_style_numbering": false,
   "user_envs_cfg": false
  },
  "toc": {
   "base_numbering": 1,
   "nav_menu": {},
   "number_sections": true,
   "sideBar": true,
   "skip_h1_title": false,
   "title_cell": "Table of Contents",
   "title_sidebar": "Contents",
   "toc_cell": false,
   "toc_position": {},
   "toc_section_display": true,
   "toc_window_display": false
  }
 },
 "nbformat": 4,
 "nbformat_minor": 4
}
